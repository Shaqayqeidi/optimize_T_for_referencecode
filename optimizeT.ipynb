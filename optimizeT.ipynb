{
 "cells": [
  {
   "cell_type": "code",
   "execution_count": 1,
   "metadata": {},
   "outputs": [],
   "source": [
    "# optimal T reference\n",
    "import math\n",
    "import scipy.special as sc\n",
    "tf=(2,6.5,2.5,6,5,3.5,3,3.5)\n",
    "weibull_scale=(2365.08,996.88,713.55,1406.84,343.76,3933.12,828.19,2040.95)\n",
    "weibull_shape=(414.16,109.25,79.81,115.21,169.81,143.60,43.83,296.48)\n",
    "tp=(0.4,5.42,0.625,0.857,1.25,0.7,0.429,0.875)\n",
    "\n",
    "def D1(T):\n",
    "    return (tp[1]*(math.exp(-weibull_scale[1]*(T**weibull_shape[1]))) + tf[1]*(1-math.exp(-weibull_scale[1]*(T**weibull_shape[1]))))/((T+tp[1])*(math.exp(-weibull_scale[1]*(T**weibull_shape[1])))+(tf[1]+((weibull_scale[1]*(sc.gammainc(1+1/weibull_shape[1],(T/weibull_scale[1])**weibull_shape[1])-sc.gammainc(1+1/weibull_shape[1],(2000/weibull_scale[1])**weibull_shape[1])))/(math.exp(-(2000/weibull_scale[1])**weibull_shape[1])-math.exp(-(T/weibull_scale[0])**weibull_shape[0]))))*(1-math.exp(-weibull_scale[1]*(T**weibull_shape[1]))))\n",
    "    "
   ]
  },
  {
   "cell_type": "code",
   "execution_count": 2,
   "metadata": {},
   "outputs": [],
   "source": [
    "from scipy.optimize import minimize_scalar"
   ]
  },
  {
   "cell_type": "code",
   "execution_count": 3,
   "metadata": {},
   "outputs": [],
   "source": [
    "res = minimize_scalar(D1)"
   ]
  },
  {
   "cell_type": "code",
   "execution_count": 4,
   "metadata": {},
   "outputs": [
    {
     "data": {
      "text/plain": [
       "     fun: 0.006478104008451434\n",
       "    nfev: 40\n",
       "     nit: 36\n",
       " success: True\n",
       "       x: 2.6180339603380443"
      ]
     },
     "execution_count": 4,
     "metadata": {},
     "output_type": "execute_result"
    }
   ],
   "source": [
    "res"
   ]
  },
  {
   "cell_type": "code",
   "execution_count": 5,
   "metadata": {},
   "outputs": [
    {
     "name": "stdout",
     "output_type": "stream",
     "text": [
      "Status : Optimization terminated successfully.\n",
      "Total Evaluations: 9\n",
      "Solution: f([1.27326059]) = 0.00648\n"
     ]
    }
   ],
   "source": [
    "from numpy.random import rand\n",
    "from scipy.optimize import minimize\n",
    "r_min, r_max = -5.0, 5.0\n",
    "# define the starting point as a random sample from the domain\n",
    "pt = r_min + rand(2) * (r_max - r_min)\n",
    "# perform the l-bfgs-b algorithm search\n",
    "result = minimize(D1,[0.5])\n",
    "# summarize the result\n",
    "print('Status : %s' % result['message'])\n",
    "print('Total Evaluations: %d' % result['nfev'])\n",
    "# evaluate solution\n",
    "solution = result['x']\n",
    "evaluation = D1(solution)\n",
    "print('Solution: f(%s) = %.5f' % (solution, evaluation))"
   ]
  },
  {
   "cell_type": "code",
   "execution_count": 8,
   "metadata": {},
   "outputs": [],
   "source": [
    "import scipy.optimize as spo"
   ]
  },
  {
   "cell_type": "code",
   "execution_count": 23,
   "metadata": {},
   "outputs": [],
   "source": [
    "# Function to minimize\n",
    "def D1(T):\n",
    "    return (tp[1]*(math.exp(-weibull_scale[1]*(T**weibull_shape[1]))) + tf[1]*(1-math.exp(-weibull_scale[1]*(T**weibull_shape[1]))))/((T+tp[1])*(math.exp(-weibull_scale[1]*(T**weibull_shape[1])))+(tf[1]+((weibull_scale[1]*(sc.gammainc(1+1/weibull_shape[1],(T/weibull_scale[1])**weibull_shape[1])-sc.gammainc(1+1/weibull_shape[1],(2000/weibull_scale[1])**weibull_shape[1])))/(math.exp(-(2000/weibull_scale[1])**weibull_shape[1])-math.exp(-(T/weibull_scale[0])**weibull_shape[0]))))*(1-math.exp(-weibull_scale[1]*(T**weibull_shape[1]))))\n",
    "  \n"
   ]
  },
  {
   "cell_type": "code",
   "execution_count": 24,
   "metadata": {},
   "outputs": [],
   "source": [
    "T_start = 1830"
   ]
  },
  {
   "cell_type": "code",
   "execution_count": 25,
   "metadata": {},
   "outputs": [
    {
     "name": "stdout",
     "output_type": "stream",
     "text": [
      "Success\n",
      "x = [1830.] y = [1.]\n"
     ]
    },
    {
     "name": "stderr",
     "output_type": "stream",
     "text": [
      "C:\\Users\\2020\\Anaconda3\\lib\\site-packages\\ipykernel_launcher.py:3: RuntimeWarning: overflow encountered in power\n",
      "  This is separate from the ipykernel package so we can avoid doing imports until\n"
     ]
    }
   ],
   "source": [
    "result = spo.minimize(D1, T_start)\n",
    "\n",
    "if result.success:\n",
    "    print(\"Success\")\n",
    "    print(f\"x = {result.x} y = {result.fun}\")"
   ]
  },
  {
   "cell_type": "code",
   "execution_count": null,
   "metadata": {},
   "outputs": [],
   "source": []
  },
  {
   "cell_type": "code",
   "execution_count": null,
   "metadata": {},
   "outputs": [],
   "source": []
  }
 ],
 "metadata": {
  "kernelspec": {
   "display_name": "Python 3",
   "language": "python",
   "name": "python3"
  },
  "language_info": {
   "codemirror_mode": {
    "name": "ipython",
    "version": 3
   },
   "file_extension": ".py",
   "mimetype": "text/x-python",
   "name": "python",
   "nbconvert_exporter": "python",
   "pygments_lexer": "ipython3",
   "version": "3.7.3"
  }
 },
 "nbformat": 4,
 "nbformat_minor": 2
}
